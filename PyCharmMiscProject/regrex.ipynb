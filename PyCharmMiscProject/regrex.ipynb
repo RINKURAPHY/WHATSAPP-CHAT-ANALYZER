{
 "cells": [
  {
   "cell_type": "code",
   "execution_count": 5,
   "id": "a9192b9b-9e52-4a6d-921a-79e9f017e7c2",
   "metadata": {},
   "outputs": [
    {
     "name": "stdout",
     "output_type": "stream",
     "text": [
      "Empty DataFrame\n",
      "Columns: [Timestamp, Sender, Message]\n",
      "Index: []\n"
     ]
    }
   ],
   "source": [
    "import re\n",
    "import pandas as pd\n",
    "\n",
    "def parse_whatsapp_chat(file_path):\n",
    "    with open(file_path, 'r', encoding='utf-8') as file:\n",
    "        lines = file.readlines()\n",
    "    \n",
    "    # Regex pattern to match WhatsApp chat format\n",
    "    pattern = r'^(\\d{1,2}/\\d{1,2}/\\d{2,4},? \\d{1,2}:\\d{2} [APMapm]{2}) - (.*?): (.*)'\n",
    "\n",
    "    timestamps = []\n",
    "    names = []\n",
    "    messages = []  # Defined properly here\n",
    "\n",
    "    for line in lines:\n",
    "        match = re.match(pattern, line)\n",
    "        if match:\n",
    "            timestamp, name, message = match.groups()\n",
    "            timestamps.append(timestamp)\n",
    "            names.append(name)\n",
    "            messages.append(message)\n",
    "        else:\n",
    "            # Append multiline messages to the last entry\n",
    "            if messages:\n",
    "                messages[-1] += ' ' + line.strip()\n",
    "\n",
    "    # Create a DataFrame\n",
    "    chat_df = pd.DataFrame({'Timestamp': timestamps, 'Sender': names, 'Message': messages})\n",
    "    \n",
    "    return chat_df\n",
    "\n",
    "# Example usage\n",
    "file_path = \"WhatsApp Chat with 💝Jo💝.txt\"  # Replace with your actual file path\n",
    "chat_df = parse_whatsapp_chat(file_path)\n",
    "print(chat_df.head())\n"
   ]
  },
  {
   "cell_type": "code",
   "execution_count": null,
   "id": "07b7d2f2-5b4c-4597-9544-6873148aa217",
   "metadata": {},
   "outputs": [],
   "source": []
  }
 ],
 "metadata": {
  "kernelspec": {
   "display_name": "Python [conda env:base] *",
   "language": "python",
   "name": "conda-base-py"
  },
  "language_info": {
   "codemirror_mode": {
    "name": "ipython",
    "version": 3
   },
   "file_extension": ".py",
   "mimetype": "text/x-python",
   "name": "python",
   "nbconvert_exporter": "python",
   "pygments_lexer": "ipython3",
   "version": "3.12.7"
  }
 },
 "nbformat": 4,
 "nbformat_minor": 5
}
